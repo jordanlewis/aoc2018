{
 "cells": [
  {
   "cell_type": "code",
   "execution_count": 22,
   "metadata": {},
   "outputs": [],
   "source": [
    "p = 425\n",
    "m = 70848"
   ]
  },
  {
   "cell_type": "code",
   "execution_count": 73,
   "metadata": {},
   "outputs": [
    {
     "name": "stdout",
     "output_type": "stream",
     "text": [
      "32\n",
      "8317\n",
      "146373\n",
      "2764\n",
      "54718\n",
      "37305\n",
      "413188\n",
      "3377272893\n"
     ]
    }
   ],
   "source": [
    "from collections import defaultdict\n",
    "class Slot(object):\n",
    "    def __init__(self, marble):\n",
    "        self.marble = marble\n",
    "    def insertRight(self, slot):\n",
    "        self.next.prev = slot\n",
    "        slot.prev = self\n",
    "        self.next, slot.next = slot, self.next\n",
    "    def remove(self):\n",
    "        self.prev.next = self.next\n",
    "        self.next.prev = self.prev\n",
    "    def __iter__(self):\n",
    "        yield self.marble\n",
    "        cur = self.next\n",
    "        while cur is not self:\n",
    "            yield cur.marble\n",
    "            cur = cur.next\n",
    "    def __str__(self):\n",
    "        return \" -> \".join((str(x) for x in self))\n",
    "\n",
    "def go(p, m):\n",
    "    maxMarble = 1\n",
    "    curP = 0\n",
    "    scores = defaultdict(int)\n",
    "    circle = Slot(0)\n",
    "    circle.next = circle\n",
    "    circle.prev = circle\n",
    "    while maxMarble <= m:\n",
    "        curMarble = maxMarble\n",
    "        maxMarble += 1\n",
    "        if curMarble % 23 == 0:\n",
    "            toRemove = circle\n",
    "            for i in range(7):\n",
    "                toRemove = toRemove.prev\n",
    "            score = curMarble + toRemove.marble\n",
    "            scores[curP] += score\n",
    "            circle = toRemove.next\n",
    "            toRemove.remove()\n",
    "        else:\n",
    "            n = Slot(curMarble)\n",
    "            circle.next.insertRight(n)\n",
    "            circle = n\n",
    "        curP = (curP + 1) % p\n",
    "    return max(scores.values())\n",
    "\n",
    "print(go(9,32))\n",
    "print(go(10,1618))\n",
    "print(go(13,7999))\n",
    "print(go(17,1104))\n",
    "print(go(21,6111))\n",
    "print(go(30,5807))\n",
    "print(go(425,70848))\n",
    "print(go(425,100*70848))\n",
    "\n",
    "\n",
    "\n",
    "\n",
    "    "
   ]
  },
  {
   "cell_type": "code",
   "execution_count": null,
   "metadata": {},
   "outputs": [],
   "source": []
  },
  {
   "cell_type": "code",
   "execution_count": null,
   "metadata": {},
   "outputs": [],
   "source": []
  }
 ],
 "metadata": {
  "kernelspec": {
   "display_name": "Python 3",
   "language": "python",
   "name": "python3"
  },
  "language_info": {
   "codemirror_mode": {
    "name": "ipython",
    "version": 3
   },
   "file_extension": ".py",
   "mimetype": "text/x-python",
   "name": "python",
   "nbconvert_exporter": "python",
   "pygments_lexer": "ipython3",
   "version": "3.6.5"
  }
 },
 "nbformat": 4,
 "nbformat_minor": 2
}
